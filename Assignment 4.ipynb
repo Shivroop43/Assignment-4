{
 "cells": [
  {
   "cell_type": "markdown",
   "id": "09d22f3f",
   "metadata": {},
   "source": [
    "Q1. Explain Class and Object with respect to Object-Oriented Programming. Give a suitable example."
   ]
  },
  {
   "cell_type": "markdown",
   "id": "9ce3fefd",
   "metadata": {},
   "source": [
    "Ans. Classes are user-defined data types that act as the blueprint for individual objects, attributes and methods. Objects are instances of a class created with specifically defined data. Objects can correspond to real-world objects or an abstract entity."
   ]
  },
  {
   "cell_type": "code",
   "execution_count": 1,
   "id": "4c09e2f9",
   "metadata": {},
   "outputs": [
    {
     "name": "stdout",
     "output_type": "stream",
     "text": [
      "welcome to pwskills\n"
     ]
    }
   ],
   "source": [
    "class pwskills:\n",
    "    def welcome_msg(a):\n",
    "        print('welcome to pwskills')\n",
    "rohan = pwskills()\n",
    "rohan.welcome_msg()"
   ]
  },
  {
   "cell_type": "markdown",
   "id": "04cfffe7",
   "metadata": {},
   "source": [
    "Q2. Name the four pillars of OOPs."
   ]
  },
  {
   "cell_type": "markdown",
   "id": "0e88b83d",
   "metadata": {},
   "source": [
    "Ans. These four pillars are Inheritance, Polymorphism, Encapsulation and Abstraction."
   ]
  },
  {
   "cell_type": "markdown",
   "id": "6f606544",
   "metadata": {},
   "source": [
    "Q3. Explain why the __init__() function is used. Give a suitable example."
   ]
  },
  {
   "cell_type": "markdown",
   "id": "3352bfc7",
   "metadata": {},
   "source": [
    "Ans. The __init__ function is called every time an object is created from a class. The __init__ method lets the class initialize the object's attributes and serves no other purpose. It is only used within classes."
   ]
  },
  {
   "cell_type": "code",
   "execution_count": 2,
   "id": "4377289b",
   "metadata": {},
   "outputs": [],
   "source": [
    "class a:\n",
    "    \n",
    "    def __init__(self , p, ei, si):\n",
    "        self.p = p\n",
    "        self.ei = ei\n",
    "        self.si = si\n",
    "    def return_sd(self):\n",
    "        return self.p(),  self.ei(), self.si()\n",
    " "
   ]
  },
  {
   "cell_type": "markdown",
   "id": "934f7a50",
   "metadata": {},
   "source": [
    "Q4. Why self is used in OOPs?"
   ]
  },
  {
   "cell_type": "markdown",
   "id": "f9fb54ba",
   "metadata": {},
   "source": [
    "Ans. The self variable is used to represent the instance of the class which is often used in object-oriented programming. It works as a reference to the object. Python uses the self parameter to refer to instance attributes and methods of the class."
   ]
  },
  {
   "cell_type": "markdown",
   "id": "bbb11ecd",
   "metadata": {},
   "source": [
    "Q5. What is inheritance? Give an example for each type of inheritance."
   ]
  },
  {
   "cell_type": "markdown",
   "id": "a70b1b50",
   "metadata": {},
   "source": [
    "Ans. Inheritance allows us to define a class that inherits all the methods and properties from another class."
   ]
  },
  {
   "cell_type": "code",
   "execution_count": null,
   "id": "7d0b263e",
   "metadata": {},
   "outputs": [],
   "source": [
    "class a:\n",
    "    \n",
    "    def __init__(self , p, ei, si):\n",
    "        self.p = p\n",
    "        self.ei = ei\n",
    "        self.si = si\n",
    "    def return_sd(self):\n",
    "        return self.p(),  self.ei(), self.si()\n",
    "    "
   ]
  }
 ],
 "metadata": {
  "kernelspec": {
   "display_name": "Python 3 (ipykernel)",
   "language": "python",
   "name": "python3"
  },
  "language_info": {
   "codemirror_mode": {
    "name": "ipython",
    "version": 3
   },
   "file_extension": ".py",
   "mimetype": "text/x-python",
   "name": "python",
   "nbconvert_exporter": "python",
   "pygments_lexer": "ipython3",
   "version": "3.9.12"
  }
 },
 "nbformat": 4,
 "nbformat_minor": 5
}
